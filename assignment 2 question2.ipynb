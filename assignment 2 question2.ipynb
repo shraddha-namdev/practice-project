{
 "cells": [
  {
   "cell_type": "code",
   "execution_count": null,
   "id": "ade40f05",
   "metadata": {},
   "outputs": [],
   "source": [
    "from IPython.core.display import display, HTML\n",
    "display(HTML(\"<style>.container { width:100% !important; }</style>\"))\n"
   ]
  },
  {
   "cell_type": "code",
   "execution_count": null,
   "id": "58ddce18",
   "metadata": {},
   "outputs": [],
   "source": [
    "import pandas as pd\n",
    "import numpy  as np\n"
   ]
  },
  {
   "cell_type": "code",
   "execution_count": null,
   "id": "475e62a7",
   "metadata": {},
   "outputs": [],
   "source": [
    "df=pd.read_csv(\"abalone.csv\")\n",
    "df"
   ]
  },
  {
   "cell_type": "code",
   "execution_count": null,
   "id": "f3d165f0",
   "metadata": {},
   "outputs": [],
   "source": [
    "df.columns"
   ]
  },
  {
   "cell_type": "code",
   "execution_count": null,
   "id": "26bbe664",
   "metadata": {},
   "outputs": [],
   "source": [
    "df.head()"
   ]
  },
  {
   "cell_type": "code",
   "execution_count": null,
   "id": "5712cb0c",
   "metadata": {},
   "outputs": [],
   "source": [
    "df.head(12)"
   ]
  },
  {
   "cell_type": "code",
   "execution_count": null,
   "id": "090ba18e",
   "metadata": {},
   "outputs": [],
   "source": [
    "#hecking the null value\n",
    "np.nan, None, Nan, others"
   ]
  },
  {
   "cell_type": "code",
   "execution_count": null,
   "id": "2daddbde",
   "metadata": {},
   "outputs": [],
   "source": [
    "df.isnull().sum()"
   ]
  },
  {
   "cell_type": "code",
   "execution_count": null,
   "id": "d938e2cf",
   "metadata": {},
   "outputs": [],
   "source": [
    "df.columns"
   ]
  },
  {
   "cell_type": "code",
   "execution_count": null,
   "id": "06f5e230",
   "metadata": {},
   "outputs": [],
   "source": [
    "a=12\n",
    "type(a)"
   ]
  },
  {
   "cell_type": "code",
   "execution_count": null,
   "id": "deb6f5f6",
   "metadata": {},
   "outputs": [],
   "source": [
    "b='12'\n",
    "type(b)"
   ]
  },
  {
   "cell_type": "code",
   "execution_count": null,
   "id": "576d6e81",
   "metadata": {},
   "outputs": [],
   "source": [
    "#figure in rupees\n",
    "price='200'\n",
    "f=int(price)\n",
    "type(f)"
   ]
  },
  {
   "cell_type": "code",
   "execution_count": null,
   "id": "5cd60e9f",
   "metadata": {},
   "outputs": [],
   "source": [
    "df.dtypes"
   ]
  },
  {
   "cell_type": "code",
   "execution_count": null,
   "id": "4f256580",
   "metadata": {},
   "outputs": [],
   "source": [
    "df.Rings.describe()"
   ]
  },
  {
   "cell_type": "code",
   "execution_count": null,
   "id": "161fa34b",
   "metadata": {},
   "outputs": [],
   "source": [
    "df['Sex'].unique()"
   ]
  },
  {
   "cell_type": "code",
   "execution_count": null,
   "id": "40fbc09f",
   "metadata": {},
   "outputs": [],
   "source": [
    "df['Sex'].nunique()"
   ]
  },
  {
   "cell_type": "code",
   "execution_count": null,
   "id": "4bf37a97",
   "metadata": {},
   "outputs": [],
   "source": [
    "df.shape"
   ]
  },
  {
   "cell_type": "code",
   "execution_count": null,
   "id": "99ca0e8f",
   "metadata": {
    "scrolled": true
   },
   "outputs": [],
   "source": [
    "df.loc[df['Sex']== \" \"]"
   ]
  },
  {
   "cell_type": "code",
   "execution_count": null,
   "id": "1f043cad",
   "metadata": {},
   "outputs": [],
   "source": [
    "df[\"Sex\"]=df[\"Sex\"].replace(\" \",np.nan)"
   ]
  },
  {
   "cell_type": "code",
   "execution_count": null,
   "id": "65d74140",
   "metadata": {},
   "outputs": [],
   "source": [
    "df.isnull().sum()"
   ]
  },
  {
   "cell_type": "code",
   "execution_count": null,
   "id": "095faa45",
   "metadata": {},
   "outputs": [],
   "source": [
    "df[\"Sex\"]=df[\"Sex\"].astype(float)"
   ]
  },
  {
   "cell_type": "code",
   "execution_count": null,
   "id": "f84748a7",
   "metadata": {},
   "outputs": [],
   "source": [
    "df.Sex.dtype"
   ]
  },
  {
   "cell_type": "code",
   "execution_count": null,
   "id": "b78ff566",
   "metadata": {},
   "outputs": [],
   "source": [
    "np.mean(df[\"Sex\"])"
   ]
  },
  {
   "cell_type": "code",
   "execution_count": null,
   "id": "6ae706dd",
   "metadata": {},
   "outputs": [],
   "source": [
    "df.iloc[5, :]"
   ]
  },
  {
   "cell_type": "code",
   "execution_count": null,
   "id": "3deb3fb0",
   "metadata": {},
   "outputs": [],
   "source": [
    "df[\"sex\"]=df[\"sex\".fillna(np.mean(df[\"sex\"]))]"
   ]
  },
  {
   "cell_type": "code",
   "execution_count": null,
   "id": "e6400205",
   "metadata": {},
   "outputs": [],
   "source": [
    "df.iloc[5,:]"
   ]
  },
  {
   "cell_type": "code",
   "execution_count": null,
   "id": "d4df2fa9",
   "metadata": {},
   "outputs": [],
   "source": [
    "df.isnull().sum()"
   ]
  },
  {
   "cell_type": "code",
   "execution_count": null,
   "id": "076ee290",
   "metadata": {},
   "outputs": [],
   "source": [
    "df.dtypes"
   ]
  },
  {
   "cell_type": "code",
   "execution_count": null,
   "id": "e7d389cf",
   "metadata": {},
   "outputs": [],
   "source": [
    "#making datafram\n",
    "df.visulization_nominal=df[['Sex', 'Length', 'Diameter', 'Height', 'Whole weight', 'Shucked weight', 'Viscera weight', 'Shell weight', 'Rings']].copy()"
   ]
  },
  {
   "cell_type": "code",
   "execution_count": null,
   "id": "a3ca8d9b",
   "metadata": {},
   "outputs": [],
   "source": [
    "#target\n",
    "abl_all=df.visulization_nominal.drop(columns=\"Rings\")\n",
    "target=df.visulization_nominal['Rings']"
   ]
  },
  {
   "cell_type": "code",
   "execution_count": null,
   "id": "db10acfd",
   "metadata": {},
   "outputs": [],
   "source": []
  },
  {
   "cell_type": "code",
   "execution_count": null,
   "id": "3e1ee1e9",
   "metadata": {},
   "outputs": [],
   "source": [
    "df.visulization_nominal.columns"
   ]
  },
  {
   "cell_type": "code",
   "execution_count": null,
   "id": "b6fd6b96",
   "metadata": {},
   "outputs": [],
   "source": [
    "#visulazation of the data\n",
    "import seaborn as sns\n",
    "import matplotlib.pyplot as plt\n",
    "\n"
   ]
  },
  {
   "cell_type": "code",
   "execution_count": null,
   "id": "cde0e4db",
   "metadata": {},
   "outputs": [],
   "source": [
    "ax=sns.countplot(x=\"Sex\",data=df.visulization_nominal)\n",
    "print(df.visulization_nominal[\"Sex\"].value_counts())\n",
    "plt.show()"
   ]
  },
  {
   "cell_type": "code",
   "execution_count": null,
   "id": "e78e17bd",
   "metadata": {},
   "outputs": [],
   "source": [
    "ax=sns.countplot(x=\"Length\",data=df.visulization_nominal)\n",
    "print(df.visulization_nominal[\"Length\"].value_counts())"
   ]
  },
  {
   "cell_type": "code",
   "execution_count": null,
   "id": "46e61bfd",
   "metadata": {
    "scrolled": true
   },
   "outputs": [],
   "source": [
    "ax=sns.countplot(x=\"Diameter\",data=df.visulization_nominal)\n",
    "print(df.visulization_nominal[\"Diameter\"].value_counts())"
   ]
  },
  {
   "cell_type": "code",
   "execution_count": null,
   "id": "b315cb7f",
   "metadata": {
    "scrolled": true
   },
   "outputs": [],
   "source": []
  },
  {
   "cell_type": "code",
   "execution_count": null,
   "id": "c6b460af",
   "metadata": {},
   "outputs": [],
   "source": [
    "#making dataframe o the oridnal dta\n",
    "plt.figure(figsize=(12,8))\n",
    "plt.subplot(2,2,1)\n",
    "sns.distplot(df['Rings'], kde=False, bins=range(0, 31, 2));\n",
    "plt.subplot(2,2,2)\n",
    "sns.boxplot(df['Rings']);\n",
    "plt.subplot(2,2,3)\n",
    "sns.distplot(df['Rings']);"
   ]
  },
  {
   "cell_type": "code",
   "execution_count": null,
   "id": "ade90ac0",
   "metadata": {},
   "outputs": [],
   "source": [
    "df = df[df['Rings'] < 20]\n",
    "plt.figure(figsize=(12,8))\n",
    "plt.subplot(2,2,1)\n",
    "sns.distplot(df['Rings'], kde=False, bins=range(0, 31, 2));\n",
    "plt.subplot(2,2,2)\n",
    "sns.boxplot(df['Rings']);\n",
    "plt.subplot(2,2,3)\n",
    "sns.distplot(df['Rings']);"
   ]
  },
  {
   "cell_type": "code",
   "execution_count": null,
   "id": "eade59a5",
   "metadata": {},
   "outputs": [],
   "source": [
    "plt.figure(figsize=(12,8))\n",
    "plt.subplot(3,3,1)\n",
    "sns.distplot(df['Length'], kde=False, bins= 10);\n",
    "plt.subplot(3,3,2)\n",
    "sns.boxplot(df['Length']);\n",
    "plt.subplot(3,3,3)\n",
    "sns.distplot(df['Length']);\n",
    "\n",
    "plt.subplot(3,3,4)\n",
    "sns.distplot(df['Diameter'], kde=False, bins = 10);\n",
    "plt.subplot(3,3,5)\n",
    "sns.boxplot(df['Diameter']);\n",
    "plt.subplot(3,3,6)\n",
    "sns.distplot(df['Diameter']);\n",
    "\n",
    "plt.subplot(3,3,7)\n",
    "sns.distplot(df['Height'], kde=False, bins= 10);\n",
    "plt.subplot(3,3,8)\n",
    "sns.boxplot(df['Height']);\n",
    "plt.subplot(3,3,9)\n",
    "sns.distplot(df['Height']);\n"
   ]
  },
  {
   "cell_type": "code",
   "execution_count": null,
   "id": "530dab94",
   "metadata": {},
   "outputs": [],
   "source": [
    "sns.catplat(x=\"Diameter\", y=\"Length\")"
   ]
  },
  {
   "cell_type": "code",
   "execution_count": null,
   "id": "9550cc02",
   "metadata": {},
   "outputs": [],
   "source": [
    "sns.boxplot(x=\"Whole weight\", y=\"Length\", hue=\"kind\",\n",
    "                kind=\"violin\")"
   ]
  },
  {
   "cell_type": "code",
   "execution_count": null,
   "id": "258a28fe",
   "metadata": {},
   "outputs": [],
   "source": [
    "df_visualization_continuous=df[[\"Length\",\"Diameter\n",
    "                                \"]].copy()"
   ]
  },
  {
   "cell_type": "code",
   "execution_count": null,
   "id": "0747e69a",
   "metadata": {},
   "outputs": [],
   "source": [
    "import seaborn as sns\n",
    "sns.displot(df_visualization_continuous[\"Sex\"],kde=True)"
   ]
  },
  {
   "cell_type": "code",
   "execution_count": null,
   "id": "027432bb",
   "metadata": {},
   "outputs": [],
   "source": [
    "sns.displot(df_visualization_continuous[\"Sex\"],kde=True)"
   ]
  },
  {
   "cell_type": "code",
   "execution_count": null,
   "id": "92aa98b5",
   "metadata": {},
   "outputs": [],
   "source": [
    "#ENCODING OF DATAFarme\n"
   ]
  },
  {
   "cell_type": "code",
   "execution_count": null,
   "id": "5402300c",
   "metadata": {},
   "outputs": [],
   "source": [
    "from sklearn.preprocessing import OrdinalEncoder\n",
    "enc=OrdinalEncoder"
   ]
  },
  {
   "cell_type": "code",
   "execution_count": null,
   "id": "6364f56b",
   "metadata": {},
   "outputs": [],
   "source": [
    "for i in df.columns:\n",
    "    if df[i].dtypes==\"object\":\n",
    "        df[i]=enc.fit_transfrom(df[i].values.reshaoe(-1,1))"
   ]
  },
  {
   "cell_type": "code",
   "execution_count": null,
   "id": "c48e7df2",
   "metadata": {},
   "outputs": [],
   "source": [
    "df"
   ]
  },
  {
   "cell_type": "code",
   "execution_count": null,
   "id": "9200aca1",
   "metadata": {},
   "outputs": [],
   "source": [
    "plt.figure(figsize = (10,8))\n",
    "sns.heatmap(df.corr(), annot = True); # annot = true : to display the correlation value in the graph."
   ]
  },
  {
   "cell_type": "code",
   "execution_count": null,
   "id": "9a2cb379",
   "metadata": {
    "scrolled": true
   },
   "outputs": [],
   "source": [
    "plt.figure(figsize=(22,7))\n",
    "df.corr()['Sex'].sort_values(ascending=False).drop(['Sex']).plot(kind='bar',color='c')\n",
    "plt.xlabel(\"feature\",fontsize=14)\n",
    "plt.ylabel('column with tarhet names',fontsize=14)\n",
    "plt.title('correlation',fontsize=8)\n",
    "plt.show()"
   ]
  },
  {
   "cell_type": "code",
   "execution_count": null,
   "id": "8f832b10",
   "metadata": {},
   "outputs": [],
   "source": [
    "df.skew()"
   ]
  },
  {
   "cell_type": "code",
   "execution_count": null,
   "id": "f846da38",
   "metadata": {},
   "outputs": [],
   "source": [
    "#outlier check\n",
    "df.dtypes"
   ]
  },
  {
   "cell_type": "code",
   "execution_count": null,
   "id": "6a743abf",
   "metadata": {},
   "outputs": [],
   "source": [
    "df['volatile acidity'].plot.box()"
   ]
  },
  {
   "cell_type": "code",
   "execution_count": null,
   "id": "3b063e67",
   "metadata": {},
   "outputs": [],
   "source": [
    "df['Sex'].plot.box()"
   ]
  },
  {
   "cell_type": "code",
   "execution_count": null,
   "id": "7932f18a",
   "metadata": {},
   "outputs": [],
   "source": [
    "df.shape"
   ]
  },
  {
   "cell_type": "code",
   "execution_count": null,
   "id": "422a29ec",
   "metadata": {},
   "outputs": [],
   "source": [
    "from scipy .stats import zscore\n",
    "import numpy as np\n",
    "z=np.abs(zscore(df))\n",
    "threshold=3\n",
    "np.where=(z>3)"
   ]
  },
  {
   "cell_type": "code",
   "execution_count": null,
   "id": "b1ba0951",
   "metadata": {},
   "outputs": [],
   "source": [
    "df_new_z=df[(z<3).all(axis=1)]\n",
    "df_new_z\n"
   ]
  },
  {
   "cell_type": "code",
   "execution_count": null,
   "id": "5c45c884",
   "metadata": {},
   "outputs": [],
   "source": [
    "df_new_z.shape"
   ]
  },
  {
   "cell_type": "code",
   "execution_count": null,
   "id": "f39be7de",
   "metadata": {},
   "outputs": [],
   "source": [
    "data_loss=((216-200)/216)*100"
   ]
  },
  {
   "cell_type": "code",
   "execution_count": null,
   "id": "6f948465",
   "metadata": {},
   "outputs": [],
   "source": [
    "data_loss"
   ]
  },
  {
   "cell_type": "code",
   "execution_count": null,
   "id": "c050bdbb",
   "metadata": {},
   "outputs": [],
   "source": []
  },
  {
   "cell_type": "markdown",
   "id": "19906957",
   "metadata": {},
   "source": [
    "#separting the dataa columns into features and target:\n",
    "features=df.drop(\"fixed acidity\",axis=1)\n",
    "target=df(\"fixed acidity\")"
   ]
  },
  {
   "cell_type": "code",
   "execution_count": null,
   "id": "e6937c1b",
   "metadata": {},
   "outputs": [],
   "source": [
    "features=df.drop(\"fixed acidity\",axis=1)\n",
    "target=df(\"fixed acidity\")\n",
    "\n"
   ]
  },
  {
   "cell_type": "code",
   "execution_count": null,
   "id": "67500c73",
   "metadata": {},
   "outputs": [],
   "source": [
    "#scalling the data using min-max scaler\n",
    "from sklearn.preprocessing import MinMaxScaler\n",
    "mns=MinMaxScaler()\n",
    "from sklearn.linear_model import LinearRegression\n",
    "lr=LinearRegression\n",
    "from sklearn.metrics import r2_score\n",
    "from sklearn.model_selection import train_test_split"
   ]
  },
  {
   "cell_type": "code",
   "execution_count": null,
   "id": "284f2f00",
   "metadata": {},
   "outputs": [],
   "source": [
    "import warnings\n",
    "warnings.filterwarnings(\"ignore\")"
   ]
  },
  {
   "cell_type": "code",
   "execution_count": null,
   "id": "2349e585",
   "metadata": {},
   "outputs": [],
   "source": [
    "for i in range(0,100):\n",
    "    features_tarin,features_test,target_train,traget_test=train_test_split(features,target,test_size=0.2,random_state=i)\n",
    "    lr.fit(features_train,target_train)\n",
    "    pred_train=lr.pridict(features_train)\n",
    "    pred_test=lr.pridict(features_test)\n",
    "    print(f\"At random state{i},the training accuracy is:-{r2_score(target,pred_train)}\")\n",
    "    print(f\"At random state{i},the training accuracy is:-{r2_score(target,pred_test)}\")\n",
    "    print(\"\\n\")\n"
   ]
  },
  {
   "cell_type": "code",
   "execution_count": null,
   "id": "e9acfbfb",
   "metadata": {},
   "outputs": [],
   "source": []
  },
  {
   "cell_type": "raw",
   "id": "31acacff",
   "metadata": {},
   "source": [
    "features_train,features test,target_train,traget_test=train_test_spilit(features.target_size=0.2,random_state=12)"
   ]
  },
  {
   "cell_type": "code",
   "execution_count": null,
   "id": "920aba3c",
   "metadata": {},
   "outputs": [],
   "source": [
    "#train the model\n",
    "lr.fit (features_train,target_train)"
   ]
  },
  {
   "cell_type": "code",
   "execution_count": null,
   "id": "6aec0926",
   "metadata": {},
   "outputs": [],
   "source": [
    "perd_trst=lr.predict(features_train)"
   ]
  },
  {
   "cell_type": "markdown",
   "id": "e63e0b37",
   "metadata": {},
   "source": [
    "# creoss vaodation of mo accudel"
   ]
  },
  {
   "cell_type": "code",
   "execution_count": null,
   "id": "99215821",
   "metadata": {},
   "outputs": [],
   "source": [
    "train_accuracy=r2_score(target_train,pred_train)\n",
    "test_accuracy=r2_score(target_tets,pred_test)\n"
   ]
  },
  {
   "cell_type": "code",
   "execution_count": null,
   "id": "619751f2",
   "metadata": {},
   "outputs": [],
   "source": [
    "from sklearn.model_selection import cross_val_score\n",
    "for j in range(2,10):\n",
    "    cv_score=cross_val_score(lr,features,target,cv=j)\n",
    "    cv_mean=cv_score.mean()\n",
    "    print(f\"At cross fold{j} the cv score is{cv_mean}and accuracy score for traning is{train_accuracy}and accuracy for the testing is({test_accuracy}\")\n",
    "    print(\"\\n\")\n",
    "    "
   ]
  },
  {
   "cell_type": "code",
   "execution_count": null,
   "id": "484d17db",
   "metadata": {},
   "outputs": [],
   "source": [
    "import matplotlib.pyplot as plt\n",
    "plt.figure(figsize=(8,6))\n",
    "plt.scatter(X=target_test,y=pred_test,color='r')\n",
    "plt.plot(target_test,target_test,color='b')\n",
    "plt.xlabel('Actual charges',fontsize=14)\n",
    "plt.ylabel('predicted charges',fontsize=14)\n",
    "plt.title('Linear Regression',fontsize=18) \n",
    "plt.savefig('lr.png')\n",
    "plt.show()\n",
    "         \n",
    "         "
   ]
  },
  {
   "cell_type": "code",
   "execution_count": null,
   "id": "ea8ac5c1",
   "metadata": {},
   "outputs": [],
   "source": [
    "#REGULARfrom sklearn.model_selection import GridSearchCV\n",
    "from sklearn.model_selection import cross_val_score\n",
    "import warnings\n",
    "warnings =filterwarnings(\"ignore\")"
   ]
  },
  {
   "cell_type": "code",
   "execution_count": null,
   "id": "51276881",
   "metadata": {},
   "outputs": [],
   "source": [
    "from sklearn.linear_model import Lasso\n",
    "parameters={'alpha':[.001,.001,.01,.1,1,10],'random_state':(range(0,10))}\n",
    "ls=Lasso()\n",
    "clf=GridSearchCV(ls,parameters)\n",
    "clf.fit(features_train,target_train)\n",
    "print(clf.beat_params)\n"
   ]
  },
  {
   "cell_type": "markdown",
   "id": "0113baf7",
   "metadata": {},
   "source": [
    " #final model trainings \n",
    " "
   ]
  },
  {
   "cell_type": "code",
   "execution_count": null,
   "id": "c5713ae9",
   "metadata": {},
   "outputs": [],
   "source": [
    "ls=Lasso(alpha=1,random_state=0)\n",
    "ls.fit(features_train,target_train)\n",
    "ls_score_training=ls.score(features_train,target_train)\n",
    "pred_ls=ls.predict(features_test)\n",
    "ls_score_training*100\n",
    "\n",
    "\n"
   ]
  },
  {
   "cell_type": "code",
   "execution_count": null,
   "id": "653a1a23",
   "metadata": {},
   "outputs": [],
   "source": [
    "prd_ls=ls.preddict(fearures_test)\n"
   ]
  },
  {
   "cell_type": "code",
   "execution_count": null,
   "id": "258e2c20",
   "metadata": {},
   "outputs": [],
   "source": [
    "lss=r2_score(target_test,pred_ls)\n",
    "lss*100"
   ]
  },
  {
   "cell_type": "code",
   "execution_count": null,
   "id": "62a38d6a",
   "metadata": {},
   "outputs": [],
   "source": [
    "cv_score=cross_val_score(ls,features,target,cv=5)\n",
    "cv_mean=cv_score.mean()\n",
    "cv_mean*100\n"
   ]
  },
  {
   "cell_type": "code",
   "execution_count": null,
   "id": "ae0b028d",
   "metadata": {},
   "outputs": [],
   "source": [
    "cv_score=cross_val_score(ls,features,target,cv=5)\n",
    "cv_mean=cv_score.mean()\n",
    "cv_mean*100\n"
   ]
  },
  {
   "cell_type": "code",
   "execution_count": null,
   "id": "312a2013",
   "metadata": {},
   "outputs": [],
   "source": [
    "#Ensemble technique\n",
    "from sklearn.model_selection import GridsSearchCV\n",
    "from sklearn.ensemble import RandomForestRegressor\n",
    "parameters={'criterion':['mse','mae'],'max_features':[\"auto\",\"sqrt\",\"log2\"]}\n",
    "rf=RamndomForestRefressor()\n",
    "clf=GridSearchCV(rf,parameters)\n",
    "clf.fit(features_train,target_train)\n",
    "print(clf.best_params)\n",
    "\n",
    "\n"
   ]
  },
  {
   "cell_type": "code",
   "execution_count": null,
   "id": "c35b3fcd",
   "metadata": {},
   "outputs": [],
   "source": [
    "rf=RandomForestResressor(certerion=\"mae\",max_features=\"auto\")\n",
    "rf.fit(features_train,target_train)\n",
    "rf.score(features_train,target_train)\n",
    "pred_decision=rf.predic(features_test)\n",
    "rfs=r2_score=cross_val_score(rf,features.target,cv=5)\n",
    "rfc=rfscore.mean()\n",
    "print('cross val Score:'rfc*100)"
   ]
  },
  {
   "cell_type": "code",
   "execution_count": null,
   "id": "081478c8",
   "metadata": {},
   "outputs": [],
   "source": [
    "import pickle\n",
    "filename=\"abalone\"\n",
    "pickle.dump(rf,open(filename,'wb'))\n"
   ]
  },
  {
   "cell_type": "markdown",
   "id": "1cd11a24",
   "metadata": {},
   "source": [
    "# conclusion"
   ]
  },
  {
   "cell_type": "code",
   "execution_count": null,
   "id": "2f406a35",
   "metadata": {},
   "outputs": [],
   "source": [
    "loaded_model=pickle.load(open('abalone',rb))\n",
    "result=loaded_model.score(features_test, target_test)\n",
    "print(result*100)\n",
    "conclusion=pd.DataFrame([loaded_model.predict.predict(features_test)[:]],index=[\"predicted\",\"orgnial\"])"
   ]
  },
  {
   "cell_type": "code",
   "execution_count": null,
   "id": "8b024362",
   "metadata": {},
   "outputs": [],
   "source": [
    "conclusion"
   ]
  }
 ],
 "metadata": {
  "kernelspec": {
   "display_name": "Python 3 (ipykernel)",
   "language": "python",
   "name": "python3"
  },
  "language_info": {
   "codemirror_mode": {
    "name": "ipython",
    "version": 3
   },
   "file_extension": ".py",
   "mimetype": "text/x-python",
   "name": "python",
   "nbconvert_exporter": "python",
   "pygments_lexer": "ipython3",
   "version": "3.9.7"
  }
 },
 "nbformat": 4,
 "nbformat_minor": 5
}
